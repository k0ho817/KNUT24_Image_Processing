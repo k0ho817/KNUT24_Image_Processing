{
 "cells": [
  {
   "cell_type": "markdown",
   "metadata": {},
   "source": [
    "# Week4"
   ]
  },
  {
   "cell_type": "markdown",
   "metadata": {},
   "source": [
    "## Scaling Example"
   ]
  },
  {
   "cell_type": "code",
   "execution_count": 3,
   "metadata": {},
   "outputs": [
    {
     "name": "stderr",
     "output_type": "stream",
     "text": [
      "2024-09-30 13:37:13.407 python[73117:22081883] +[IMKClient subclass]: chose IMKClient_Modern\n",
      "2024-09-30 13:37:13.407 python[73117:22081883] +[IMKInputSession subclass]: chose IMKInputSession_Modern\n"
     ]
    }
   ],
   "source": [
    "# Scailing\n",
    "import cv2\n",
    "\n",
    "if __name__ == '__main__':\n",
    "    ori_img = cv2.imread('../images/Lenna.jpg', cv2.IMREAD_UNCHANGED)\n",
    "\n",
    "    rs_img = cv2.resize(ori_img, (64, 64), interpolation=cv2.INTER_LINEAR)\n",
    "    cv2.imshow('128x64 image', rs_img)\n",
    "\n",
    "    z_img1 = cv2.resize(rs_img, (512, 512), interpolation=cv2.INTER_NEAREST)\n",
    "    z_img2 = cv2.resize(rs_img, None, fx=8, fy=8, interpolation=cv2.INTER_NEAREST)\n",
    "    z_img3 = cv2.resize(rs_img, None, fx=8, fy=8, interpolation=cv2.INTER_CUBIC)\n",
    "    z_img4 = cv2.resize(rs_img, None, fx=8, fy=8, interpolation=cv2.INTER_AREA)\n",
    "\n",
    "    cv2.imshow('Nearest neighbor intp image', z_img1)\n",
    "    cv2.imshow('Bilinear intp image', z_img2)\n",
    "    cv2.imshow('Cubic intp image', z_img3)\n",
    "    cv2.imshow('Area intp image', z_img4)\n",
    "\n",
    "    cv2.waitKey(0)"
   ]
  },
  {
   "cell_type": "markdown",
   "metadata": {},
   "source": [
    "## Translation Example"
   ]
  },
  {
   "cell_type": "code",
   "execution_count": 1,
   "metadata": {},
   "outputs": [
    {
     "name": "stderr",
     "output_type": "stream",
     "text": [
      "2024-09-30 13:40:23.402 python[78600:22100158] +[IMKClient subclass]: chose IMKClient_Modern\n",
      "2024-09-30 13:40:23.402 python[78600:22100158] +[IMKInputSession subclass]: chose IMKInputSession_Modern\n"
     ]
    }
   ],
   "source": [
    "import numpy as np\n",
    "import cv2\n",
    "if __name__ == '__main__':\n",
    "    ori_img = cv2.imread(\"../images/Lenna.jpg\", cv2.IMREAD_UNCHANGED)\n",
    "    cv2.imshow('Original image', ori_img)\n",
    "    rows, cols = ori_img.shape[:2] # channel 여부 무시\n",
    "    Mat = np.float32([[1, 0, 30],[0, 1, 60]])\n",
    "    t_image1 = cv2.warpAffine(ori_img, Mat, (cols, rows))\n",
    "    # 이동된 여백 지정된 색으로\n",
    "    t_image2 = cv2.warpAffine(ori_img, Mat, (cols, rows),\n",
    "                              borderMode=cv2.BORDER_CONSTANT,\n",
    "                              borderValue=(255,255,255))\n",
    "    # 이동된 여백 경계면 늘이기\n",
    "    t_image3 = cv2.warpAffine(ori_img, Mat, (cols, rows),\n",
    "                              borderMode=cv2.BORDER_REPLICATE)\n",
    "    # 이동된 여백 반전으로 채우기\n",
    "    t_image4 = cv2.warpAffine(ori_img, Mat, (cols, rows),\n",
    "                              borderMode=cv2.BORDER_REFLECT)\n",
    "    # 이동된 여백 자투리 사진으로 채우기\n",
    "    t_image5 = cv2.warpAffine(ori_img, Mat, (cols, rows),\n",
    "                              borderMode=cv2.BORDER_WRAP)\n",
    "    cv2.imshow('Translation image - default', t_image1)\n",
    "    cv2.imshow('Translation image - BORDER_CONSTANT', t_image2)\n",
    "    cv2.imshow('Translation image - BORDER_REPLICATE', t_image3)\n",
    "    cv2.imshow('Translation image - BORDER_REFLECT', t_image4)\n",
    "    cv2.imshow('Translation image - BORDER_WRAP', t_image5)\n",
    "    cv2.waitKey(0)"
   ]
  },
  {
   "cell_type": "markdown",
   "metadata": {},
   "source": [
    "## Rotation Example"
   ]
  },
  {
   "cell_type": "code",
   "execution_count": 1,
   "metadata": {},
   "outputs": [
    {
     "name": "stderr",
     "output_type": "stream",
     "text": [
      "2024-09-30 13:49:09.225 python[85873:22123450] +[IMKClient subclass]: chose IMKClient_Modern\n",
      "2024-09-30 13:49:09.225 python[85873:22123450] +[IMKInputSession subclass]: chose IMKInputSession_Modern\n"
     ]
    }
   ],
   "source": [
    "import cv2\n",
    "if __name__ == '__main__':\n",
    "    ori_img = cv2.imread(\"../images/Lenna.jpg\", cv2.IMREAD_UNCHANGED)\n",
    "    cv2.imshow('Original image', ori_img)\n",
    "    rows, cols = ori_img.shape[:2] # channel 여부 무시\n",
    "    # getRotationMatrix2D((센터 좌표 type: tuple), (회전각도 type: float),  (확대률 typel: float))\n",
    "    Mat1 = cv2.getRotationMatrix2D((0, 0), 45, 1.0)\n",
    "    Mat2 = cv2.getRotationMatrix2D((cols / 2, rows / 2), 45, 1.0)\n",
    "    Mat3 = cv2.getRotationMatrix2D((cols / 2, rows / 2), 90, 1.0)\n",
    "    r_image1 = cv2.warpAffine(ori_img, Mat1, (cols, rows))\n",
    "    r_image2 = cv2.warpAffine(ori_img, Mat2, (cols, rows),\n",
    "    borderMode=cv2.BORDER_REPLICATE)\n",
    "    r_image3 = cv2.warpAffine(ori_img, Mat2, (cols, rows),\n",
    "    borderMode=cv2.BORDER_DEFAULT)\n",
    "    r_image4 = cv2.warpAffine(ori_img, Mat3, (cols, rows))\n",
    "    cv2.imshow('Rotation image - (0, 0), 45)', r_image1)\n",
    "    cv2.imshow('Rotation image - (w/2, h/2), 45 - replicate)', r_image2)\n",
    "    cv2.imshow('Rotation image - (w/2, h/2), 45 - default)', r_image3)\n",
    "    cv2.imshow('Rotation image - (w/2, h/2), 90', r_image4)\n",
    "    cv2.waitKey(0)\n"
   ]
  },
  {
   "cell_type": "markdown",
   "metadata": {},
   "source": [
    "## Flip Example"
   ]
  },
  {
   "cell_type": "code",
   "execution_count": 1,
   "metadata": {},
   "outputs": [
    {
     "name": "stderr",
     "output_type": "stream",
     "text": [
      "2024-09-30 13:57:30.279 python[88581:22132161] +[IMKClient subclass]: chose IMKClient_Modern\n",
      "2024-09-30 13:57:30.279 python[88581:22132161] +[IMKInputSession subclass]: chose IMKInputSession_Modern\n"
     ]
    }
   ],
   "source": [
    "import cv2\n",
    "\n",
    "if __name__ == '__main__':\n",
    "    ori_img = cv2.imread(\"../images/Lenna.jpg\", cv2.IMREAD_UNCHANGED)\n",
    "\n",
    "    f_image0 = cv2.flip(ori_img, 0)\n",
    "    f_imagep1 = cv2.flip(ori_img, 1)\n",
    "    f_imagem1 = cv2.flip(ori_img, -1)\n",
    "\n",
    "    cv2.imshow('ori img', ori_img)\n",
    "    cv2.imshow('flip img (up/down, 0)', f_image0)\n",
    "    cv2.imshow('flip img (left/right, 1)', f_image0)\n",
    "    cv2.imshow('flip img (y=x, -1)', f_image0)\n",
    "\n",
    "    cv2.waitKey(0)"
   ]
  },
  {
   "cell_type": "markdown",
   "metadata": {},
   "source": [
    "## QComboBox Example"
   ]
  },
  {
   "cell_type": "code",
   "execution_count": 1,
   "metadata": {},
   "outputs": [
    {
     "name": "stderr",
     "output_type": "stream",
     "text": [
      "2024-09-30 14:05:53.499 python[2902:22175632] +[IMKClient subclass]: chose IMKClient_Modern\n",
      "2024-09-30 14:05:53.499 python[2902:22175632] +[IMKInputSession subclass]: chose IMKInputSession_Modern\n"
     ]
    },
    {
     "name": "stdout",
     "output_type": "stream",
     "text": [
      "currentText: Manchester City\n",
      "currentIndex: 1\n",
      "currentText: Spurs\n",
      "currentIndex: 2\n"
     ]
    },
    {
     "ename": "SystemExit",
     "evalue": "0",
     "output_type": "error",
     "traceback": [
      "An exception has occurred, use %tb to see the full traceback.\n",
      "\u001b[0;31mSystemExit\u001b[0m\u001b[0;31m:\u001b[0m 0\n"
     ]
    },
    {
     "name": "stderr",
     "output_type": "stream",
     "text": [
      "/Users/mungyeongho/anaconda3/envs/AI_env/lib/python3.8/site-packages/IPython/core/interactiveshell.py:3516: UserWarning: To exit: use 'exit', 'quit', or Ctrl-D.\n",
      "  warn(\"To exit: use 'exit', 'quit', or Ctrl-D.\", stacklevel=1)\n"
     ]
    }
   ],
   "source": [
    "import sys\n",
    "from PySide6.QtWidgets import (QApplication, QComboBox, QHBoxLayout, QLabel, QMainWindow, QPushButton, QVBoxLayout, QWidget)\n",
    "class Window(QMainWindow):\n",
    "    def __init__(self):\n",
    "        super().__init__()\n",
    "        self.button = QPushButton(\"Print Combo Item\")\n",
    "        self.my_combo_box = QComboBox()\n",
    "        self.my_combo_box.addItem(\"Arsenal\")\n",
    "        self.my_combo_box.addItem(\"Manchester City\")\n",
    "        self.my_combo_box.addItem(\"Spurs\")\n",
    "        self.my_combo_box.addItem(\"Liverpool\")\n",
    "\n",
    "        self.button.clicked.connect(self.print_item)\n",
    "        self.combo_label = QLabel(\"My List:\")\n",
    "\n",
    "        h_layout = QHBoxLayout()\n",
    "        h_layout.addWidget(self.combo_label)\n",
    "        h_layout.addWidget(self.my_combo_box)\n",
    "\n",
    "        v_layout = QVBoxLayout()\n",
    "        v_layout.addLayout(h_layout)\n",
    "        v_layout.addWidget(self.button)\n",
    "\n",
    "        widget = QWidget(self)\n",
    "        widget.setLayout(v_layout)\n",
    "        self.setCentralWidget(widget)\n",
    "\n",
    "    def print_item(self):\n",
    "        print(f'currentText: {self.my_combo_box.currentText()}')\n",
    "        print(f'currentIndex: {self.my_combo_box.currentIndex()}')\n",
    "\n",
    "if __name__ == '__main__':\n",
    "    app = QApplication()\n",
    "    w = Window()\n",
    "    w.show()\n",
    "    sys.exit(app.exec())"
   ]
  },
  {
   "cell_type": "markdown",
   "metadata": {},
   "source": [
    "## 실습"
   ]
  },
  {
   "cell_type": "code",
   "execution_count": 2,
   "metadata": {},
   "outputs": [
    {
     "ename": "RuntimeError",
     "evalue": "Please destroy the QApplication singleton before creating a new QApplication instance.",
     "output_type": "error",
     "traceback": [
      "\u001b[0;31m---------------------------------------------------------------------------\u001b[0m",
      "\u001b[0;31mRuntimeError\u001b[0m                              Traceback (most recent call last)",
      "Cell \u001b[0;32mIn[2], line 43\u001b[0m\n\u001b[1;32m     39\u001b[0m         \u001b[38;5;28mself\u001b[39m\u001b[38;5;241m.\u001b[39msetCentralWidget(widget)\n\u001b[1;32m     42\u001b[0m \u001b[38;5;28;01mif\u001b[39;00m \u001b[38;5;18m__name__\u001b[39m \u001b[38;5;241m==\u001b[39m \u001b[38;5;124m'\u001b[39m\u001b[38;5;124m__main__\u001b[39m\u001b[38;5;124m'\u001b[39m:\n\u001b[0;32m---> 43\u001b[0m     app \u001b[38;5;241m=\u001b[39m \u001b[43mQApplication\u001b[49m\u001b[43m(\u001b[49m\u001b[43m)\u001b[49m\n\u001b[1;32m     44\u001b[0m     w \u001b[38;5;241m=\u001b[39m Window()\n\u001b[1;32m     45\u001b[0m     w\u001b[38;5;241m.\u001b[39mshow()\n",
      "\u001b[0;31mRuntimeError\u001b[0m: Please destroy the QApplication singleton before creating a new QApplication instance."
     ]
    }
   ],
   "source": [
    "import sys\n",
    "from PySide6.QtCore import Qt\n",
    "from PySide6.QtWidgets import (QApplication, QComboBox, QHBoxLayout, QLabel, QMainWindow, QPushButton, QVBoxLayout, QWidget, QLineEdit)\n",
    "class Window(QMainWindow):\n",
    "    def __init__(self):\n",
    "        super().__init__()\n",
    "        self.edit = QLineEdit('Wrtie image path here')\n",
    "\n",
    "        self.load_btn = QPushButton('Load Image')\n",
    "        self.bin_btn = QPushButton('Binary Image')\n",
    "        self.geo_btn = QPushButton('Geometry Image')\n",
    "\n",
    "        self.label = QLabel()\n",
    "        self.label.setFixedSize(640, 480)\n",
    "        self.geo_label = QLabel(\"Geometry Type:\")\n",
    "\n",
    "        self.combobox = QComboBox()\n",
    "        self.combobox.addItem('flip')\n",
    "        self.combobox.addItem('translation')\n",
    "        self.combobox.addItem('rotation')\n",
    "\n",
    "        h_layout1 = QHBoxLayout()\n",
    "        h_layout1.addWidget(self.edit)\n",
    "        h_layout1.addWidget(self.load_btn)\n",
    "        h_layout1.addWidget(self.bin_btn)\n",
    "\n",
    "        h_layout2 = QHBoxLayout()\n",
    "        h_layout2.addWidget(self.geo_label, alignment=Qt.AlignmentFlag.AlignRight)\n",
    "        h_layout2.addWidget(self.combobox)\n",
    "        h_layout2.addWidget(self.geo_btn)\n",
    "\n",
    "        v_layout = QVBoxLayout()\n",
    "        v_layout.addWidget(self.label)\n",
    "        v_layout.addLayout(h_layout1)\n",
    "        v_layout.addLayout(h_layout2)\n",
    "\n",
    "        widget = QWidget(self)\n",
    "        widget.setLayout(v_layout)\n",
    "        self.setCentralWidget(widget)\n",
    "\n",
    "\n",
    "if __name__ == '__main__':\n",
    "    app = QApplication()\n",
    "    w = Window()\n",
    "    w.show()\n",
    "    sys.exit(app.exec())"
   ]
  }
 ],
 "metadata": {
  "kernelspec": {
   "display_name": "AI_env",
   "language": "python",
   "name": "python3"
  },
  "language_info": {
   "codemirror_mode": {
    "name": "ipython",
    "version": 3
   },
   "file_extension": ".py",
   "mimetype": "text/x-python",
   "name": "python",
   "nbconvert_exporter": "python",
   "pygments_lexer": "ipython3",
   "version": "3.8.19"
  }
 },
 "nbformat": 4,
 "nbformat_minor": 2
}
